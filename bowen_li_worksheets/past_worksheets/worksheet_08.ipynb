{
 "cells": [
  {
   "attachments": {},
   "cell_type": "markdown",
   "metadata": {},
   "source": [
    "# Worksheet 08\n",
    "\n",
    "Name: **Bowen Li**  \n",
    "UID: **U79057147** \n",
    "\n",
    "### Topics\n",
    "\n",
    "- Soft Clustering\n",
    "- Clustering Aggregation\n",
    "\n",
    "### Probability Review\n",
    "\n",
    "Read through [the following](https://medium.com/@gallettilance/overview-of-probability-3272b72c82c8)\n",
    "\n",
    "### Soft Clustering\n",
    "\n",
    "We generate 10 data points that come from a normal distribution with mean 5 and variance 1."
   ]
  },
  {
   "cell_type": "code",
   "execution_count": 1,
   "metadata": {},
   "outputs": [
    {
     "name": "stdout",
     "output_type": "stream",
     "text": [
      "[3.678730235051275, 5.07866867778319, 5.290684587728895, 5.8384938384222265, 5.735578786056836, 5.609941385281047, 3.3171927386854976, 4.848246839036331, 5.9333814655519355, 4.127952473017369]\n"
     ]
    }
   ],
   "source": [
    "import random\n",
    "import numpy as np\n",
    "from sklearn.cluster import KMeans\n",
    "\n",
    "mean = 5\n",
    "stdev = 1\n",
    "\n",
    "s1 = np.random.normal(mean, stdev, 10).tolist()\n",
    "print(s1)"
   ]
  },
  {
   "cell_type": "markdown",
   "metadata": {},
   "source": [
    "a) Generate 10 more data points, this time coming from a normal distribution with mean 8 and variance 1."
   ]
  },
  {
   "cell_type": "code",
   "execution_count": 2,
   "metadata": {},
   "outputs": [
    {
     "name": "stdout",
     "output_type": "stream",
     "text": [
      "[8.948714736267085, 7.501699543708617, 7.947504828669517, 8.142435836054752, 8.74435112534175, 7.914626525128113, 7.095639036373787, 7.353095450589233, 8.670445505049694, 7.6835938510425255]\n"
     ]
    }
   ],
   "source": [
    "mean2 = 8\n",
    "stdev2 = 1\n",
    "\n",
    "s2 = np.random.normal(mean2, stdev2, 10).tolist()\n",
    "print(s2)"
   ]
  },
  {
   "attachments": {},
   "cell_type": "markdown",
   "metadata": {},
   "source": [
    "b) Flip a fair coin 10 times. If the coin lands on H, then pick the last data point of `s1` and remove it from `s1`, if T then pick the last data point from `s2` and remove it from `s2`. Add these 10 points to a list called `data`."
   ]
  },
  {
   "cell_type": "code",
   "execution_count": 3,
   "metadata": {},
   "outputs": [
    {
     "name": "stdout",
     "output_type": "stream",
     "text": [
      "[4.127952473017369, 7.6835938510425255, 8.670445505049694, 7.353095450589233, 5.9333814655519355, 7.095639036373787, 4.848246839036331, 3.3171927386854976, 5.609941385281047, 7.914626525128113]\n"
     ]
    }
   ],
   "source": [
    "data = []\n",
    "for i in range(10):\n",
    "    # flip coin\n",
    "    coin_output = random.choice([0, 1])\n",
    "    if coin_output == 0:\n",
    "        p1 = s1.pop()\n",
    "        data.append(p1)\n",
    "    else:\n",
    "        p2 = s2.pop()\n",
    "        data.append(p2)\n",
    "print(data)"
   ]
  },
  {
   "cell_type": "markdown",
   "metadata": {},
   "source": [
    "c) This `data` is a Gaussian Mixture Distribution with 2 mixture components. Over the next few questions we will walk through the GMM algorithm to see if we can uncover the parameters we used to generate this data. First, please list all these parameters of the GMM that created `data` and the values we know they have."
   ]
  },
  {
   "cell_type": "markdown",
   "metadata": {},
   "source": [
    "$\\mu_1=5$<br>\n",
    "$\\sigma_1=1$<br><br>\n",
    "$\\mu_2=8$<br>\n",
    "$\\sigma_2=1$"
   ]
  },
  {
   "cell_type": "markdown",
   "metadata": {},
   "source": [
    "d) Let's assume there are two mixture components (note: we could plot the data and make the observation that there are two clusters). The EM algorithm asks us to start with a random `mean_j`, `variance_j`, `P(S_j)` for each component j. One method we could use to find sensible values for these is to apply K means with k=2 here.\n",
    "\n",
    "1. the centroids would be the estimates of the `mean_j`\n",
    "2. the intra-cluster variance could be the estimate of `variance_j`\n",
    "3. the proportion of points in each cluster could be the estimate of `P(S_j)`\n",
    "\n",
    "Go through this process and list the parameter estimates it gives. Are they close or far from the true values?"
   ]
  },
  {
   "cell_type": "code",
   "execution_count": 4,
   "metadata": {},
   "outputs": [
    {
     "name": "stderr",
     "output_type": "stream",
     "text": [
      "C:\\Users\\libow\\Programs\\Anaconda\\anaconda3\\envs\\datasci\\lib\\site-packages\\sklearn\\cluster\\_kmeans.py:1412: FutureWarning: The default value of `n_init` will change from 10 to 'auto' in 1.4. Set the value of `n_init` explicitly to suppress the warning\n",
      "  super()._check_params_vs_input(X, default_n_init=10)\n",
      "C:\\Users\\libow\\Programs\\Anaconda\\anaconda3\\envs\\datasci\\lib\\site-packages\\sklearn\\cluster\\_kmeans.py:1436: UserWarning: KMeans is known to have a memory leak on Windows with MKL, when there are less chunks than available threads. You can avoid it by setting the environment variable OMP_NUM_THREADS=1.\n",
      "  warnings.warn(\n"
     ]
    },
    {
     "name": "stdout",
     "output_type": "stream",
     "text": [
      "[7.6835938510425255, 8.670445505049694, 7.353095450589233, 7.095639036373787, 7.914626525128113]\n",
      "[4.127952473017369, 5.9333814655519355, 4.848246839036331, 3.3171927386854976, 5.609941385281047]\n",
      "P(S_1) = 0.5,  P(S_2) = 0.5\n",
      "mean_1 = 7.74348007363667,  mean_2 = 4.767342980314437\n",
      "var_1 = 0.29284810840463577,  var_2 = 0.9175838399162803\n"
     ]
    }
   ],
   "source": [
    "kmeans = KMeans(2, init='k-means++').fit(X=np.array(data).reshape(-1, 1))\n",
    "\n",
    "s1 = [x[0] for x in filter(lambda x: x[1] == 0, zip(data, kmeans.labels_))]\n",
    "print(s1)\n",
    "s2 = [x[0] for x in filter(lambda x: x[1] == 1, zip(data, kmeans.labels_))]\n",
    "print(s2)\n",
    "\n",
    "prob_s = [ len(s1) / (len(s1) + len(s2)) , len(s2) / (len(s1) + len(s2)) ]\n",
    "mean = [ sum(s1)/len(s1) , sum(s2)/len(s2) ]\n",
    "var = [ sum(map(lambda x : (x - mean[0])**2, s1)) / len(s1) , sum(map(lambda x : (x - mean[1])**2, s2)) / len(s2) ]\n",
    "\n",
    "print(\"P(S_1) = \" + str(prob_s[0]) + \",  P(S_2) = \" + str(prob_s[1]))\n",
    "print(\"mean_1 = \" + str(mean[0]) + \",  mean_2 = \" + str(mean[1]))\n",
    "print(\"var_1 = \" + str(var[0]) + \",  var_2 = \" + str(var[1]))"
   ]
  },
  {
   "cell_type": "markdown",
   "metadata": {},
   "source": [
    "They are relatively close to the true values. $P(S_1)$ and $P(S_2)$ were on the mark while the means are relatively close to $8$ and $5$. One of the variances is very close to $1$, the true value, while the other is a bit further off."
   ]
  },
  {
   "cell_type": "markdown",
   "metadata": {},
   "source": [
    "e) For each data point, compute `P(S_j | X_i)`. Comment on which cluster you think each point belongs to based on the estimated probabilities. How does that compare to the truth?"
   ]
  },
  {
   "cell_type": "code",
   "execution_count": 5,
   "metadata": {},
   "outputs": [
    {
     "name": "stdout",
     "output_type": "stream",
     "text": [
      "point =  4.127952473017369\n",
      "probability of observing that point if it came from cluster 0 =  1.4950470749433537e-10\n",
      "probability of observing that point if it came from cluster 1 =  0.33330315573088826\n",
      "point =  7.6835938510425255\n",
      "probability of observing that point if it came from cluster 0 =  0.7327056898088594\n",
      "probability of observing that point if it came from cluster 1 =  0.004045602701631971\n",
      "point =  8.670445505049694\n",
      "probability of observing that point if it came from cluster 0 =  0.16999762002554342\n",
      "probability of observing that point if it came from cluster 1 =  0.00010337000348120718\n",
      "point =  7.353095450589233\n",
      "probability of observing that point if it came from cluster 0 =  0.5683082338776531\n",
      "probability of observing that point if it came from cluster 1 =  0.010897086646964172\n",
      "point =  5.9333814655519355\n",
      "probability of observing that point if it came from cluster 0 =  0.002742154286666259\n",
      "probability of observing that point if it came from cluster 1 =  0.19852970715353432\n",
      "point =  7.095639036373787\n",
      "probability of observing that point if it came from cluster 0 =  0.3600661142650641\n",
      "probability of observing that point if it came from cluster 1 =  0.02171252588598708\n",
      "point =  4.848246839036331\n",
      "probability of observing that point if it came from cluster 0 =  4.487938365957209e-07\n",
      "probability of observing that point if it came from cluster 1 =  0.4149905462213596\n",
      "point =  3.3171927386854976\n",
      "probability of observing that point if it came from cluster 0 =  2.188173146597187e-15\n",
      "probability of observing that point if it came from cluster 1 =  0.1324113151315932\n",
      "point =  5.609941385281047\n",
      "probability of observing that point if it came from cluster 0 =  0.00031065941248313545\n",
      "probability of observing that point if it came from cluster 1 =  0.28285997817253383\n",
      "point =  7.914626525128113\n",
      "probability of observing that point if it came from cluster 0 =  0.7012444885252506\n",
      "probability of observing that point if it came from cluster 1 =  0.0018856656867170616\n",
      "4.127952473017369\n",
      "Probability of coming from S_1 = 4.4855473120088215e-10\n",
      "Probability of coming from S_2 = 0.9999999995514454\n",
      "\n",
      "7.6835938510425255\n",
      "Probability of coming from S_1 = 0.9945088624305679\n",
      "Probability of coming from S_2 = 0.005491137569432036\n",
      "\n",
      "8.670445505049694\n",
      "Probability of coming from S_1 = 0.9993923021643579\n",
      "Probability of coming from S_2 = 0.0006076978356420441\n",
      "\n",
      "7.353095450589233\n",
      "Probability of coming from S_1 = 0.9811861420107568\n",
      "Probability of coming from S_2 = 0.018813857989243083\n",
      "\n",
      "5.9333814655519355\n",
      "Probability of coming from S_1 = 0.013624131396434537\n",
      "Probability of coming from S_2 = 0.9863758686035654\n",
      "\n",
      "7.095639036373787\n",
      "Probability of coming from S_1 = 0.9431279710216461\n",
      "Probability of coming from S_2 = 0.05687202897835377\n",
      "\n",
      "4.848246839036331\n",
      "Probability of coming from S_1 = 1.0814543977738285e-06\n",
      "Probability of coming from S_2 = 0.9999989185456022\n",
      "\n",
      "3.3171927386854976\n",
      "Probability of coming from S_1 = 1.652557520799863e-14\n",
      "Probability of coming from S_2 = 0.9999999999999835\n",
      "\n",
      "5.609941385281047\n",
      "Probability of coming from S_1 = 0.0010970749479273444\n",
      "Probability of coming from S_2 = 0.9989029250520726\n",
      "\n",
      "7.914626525128113\n",
      "Probability of coming from S_1 = 0.9973181840155462\n",
      "Probability of coming from S_2 = 0.0026818159844537166\n",
      "\n"
     ]
    }
   ],
   "source": [
    "from scipy.stats import norm\n",
    "\n",
    "prob_s0_x = [] # P(S_0 | X_i)\n",
    "prob_s1_x = [] # P(S_1 | X_i)\n",
    "prob_x = [] # P(X_i)\n",
    "\n",
    "k = 2\n",
    "\n",
    "for p in data:\n",
    "    print(\"point = \", p)\n",
    "    pdf_i = [] # pdf_i[0] = p(p | s_0)\n",
    "\n",
    "    for j in range(k):\n",
    "        # P(X_i | S_j)\n",
    "        pdf_i.append(norm.pdf(p, mean[j], var[j]**.5))\n",
    "        print(\"probability of observing that point if it came from cluster \" + str(j) + \" = \", pdf_i[j])\n",
    "        # P(S_j) already computed\n",
    "        prob_s[j]\n",
    "\n",
    "    # P(X_i) = P(S_0)P(X_i | S_0) + P(S_1)P(X_i | S_1)\n",
    "    prob_x = prob_s[0] * pdf_i[0] + prob_s[1] * pdf_i[1]\n",
    "\n",
    "    # P(S_j | X_i) = P(X_i | S_j)P(S_j) / P(X_i)\n",
    "    prob_s0_x.append( prob_s[0] * pdf_i[0] / prob_x )\n",
    "    prob_s1_x.append( prob_s[1] * pdf_i[1] / prob_x )\n",
    "\n",
    "probs = zip(data, prob_s0_x, prob_s1_x)\n",
    "for p in probs:\n",
    "    print(p[0])\n",
    "    print(\"Probability of coming from S_1 = \" + str(p[1]))\n",
    "    print(\"Probability of coming from S_2 = \" + str(p[2]))\n",
    "    print()\n"
   ]
  },
  {
   "cell_type": "markdown",
   "metadata": {},
   "source": [
    "f) Having computed `P(S_j | X_i)`, update the estimates of `mean_j`, `var_j`, and `P(S_j)`. How different are these values from the original ones you got from K means? briefly comment."
   ]
  },
  {
   "cell_type": "code",
   "execution_count": 6,
   "metadata": {},
   "outputs": [
    {
     "name": "stdout",
     "output_type": "stream",
     "text": [
      "P(S_1) = 0.5,  P(S_2) = 0.5\n",
      "mean_1 = 7.746824811809375,  mean_2 = 4.80503285691634\n",
      "var_1 = 0.3014996689200326,  var_2 = 1.001634174184171\n"
     ]
    }
   ],
   "source": [
    "prob_c = [sum(prob_s0_x)/ len(prob_s0_x), sum(prob_s1_x)/ len(prob_s1_x) ]\n",
    "mean = [sum([x[0] * x[1] for x in zip(prob_s0_x, data)]) / sum(prob_s0_x), sum([x[0] * x[1] for x in zip(prob_s1_x, data)]) / sum(prob_s1_x) ]\n",
    "var = [ sum([x[0] * (x[1] - mean[0])**2 for x in zip(prob_s0_x, data)]) / sum(prob_s0_x) , sum([x[0] * (x[1] - mean[1])**2 for x in zip(prob_s1_x, data)]) / sum(prob_s1_x) ]\n",
    "\n",
    "print(\"P(S_1) = \" + str(prob_s[0]) + \",  P(S_2) = \" + str(prob_s[1]))\n",
    "print(\"mean_1 = \" + str(mean[0]) + \",  mean_2 = \" + str(mean[1]))\n",
    "print(\"var_1 = \" + str(var[0]) + \",  var_2 = \" + str(var[1]))"
   ]
  },
  {
   "cell_type": "markdown",
   "metadata": {},
   "source": [
    "After one iteration, these values are closer to the true values but not by much from the original K means result."
   ]
  },
  {
   "cell_type": "markdown",
   "metadata": {},
   "source": [
    "g) Update `P(S_j | X_i)`. Comment on any differences or lack thereof you observe."
   ]
  },
  {
   "cell_type": "code",
   "execution_count": 7,
   "metadata": {},
   "outputs": [
    {
     "name": "stdout",
     "output_type": "stream",
     "text": [
      "point =  4.127952473017369\n",
      "probability of observing that point if it came from cluster 0 =  2.6856221126458087e-10\n",
      "probability of observing that point if it came from cluster 1 =  0.3170804017410493\n",
      "point =  7.6835938510425255\n",
      "probability of observing that point if it came from cluster 0 =  0.7217504777571022\n",
      "probability of observing that point if it came from cluster 1 =  0.006370659888257259\n",
      "point =  8.670445505049694\n",
      "probability of observing that point if it came from cluster 0 =  0.1765475048883936\n",
      "probability of observing that point if it came from cluster 1 =  0.00022980627089209474\n",
      "point =  7.353095450589233\n",
      "probability of observing that point if it came from cluster 0 =  0.5618437148253459\n",
      "probability of observing that point if it came from cluster 1 =  0.015595543777686903\n",
      "point =  5.9333814655519355\n",
      "probability of observing that point if it came from cluster 0 =  0.0031099638990570275\n",
      "probability of observing that point if it came from cluster 1 =  0.2111256868251325\n",
      "point =  7.095639036373787\n",
      "probability of observing that point if it came from cluster 0 =  0.3596340814858515\n",
      "probability of observing that point if it came from cluster 1 =  0.029044878015138016\n",
      "point =  4.848246839036331\n",
      "probability of observing that point if it came from cluster 0 =  6.458373537083666e-07\n",
      "probability of observing that point if it came from cluster 1 =  0.3982452911410011\n",
      "point =  3.3171927386854976\n",
      "probability of observing that point if it came from cluster 0 =  5.361595717257314e-15\n",
      "probability of observing that point if it came from cluster 1 =  0.13202245550791925\n",
      "point =  5.609941385281047\n",
      "probability of observing that point if it came from cluster 0 =  0.0003737056792934238\n",
      "probability of observing that point if it came from cluster 1 =  0.28846967418178615\n",
      "point =  7.914626525128113\n",
      "probability of observing that point if it came from cluster 0 =  0.6934050579973645\n",
      "probability of observing that point if it came from cluster 1 =  0.003193450289187138\n",
      "4.127952473017369\n",
      "Probability of coming from S_1 = 8.236807207448149e-10\n",
      "Probability of coming from S_2 = 0.9999999991763193\n",
      "\n",
      "7.6835938510425255\n",
      "Probability of coming from S_1 = 0.9910052335568447\n",
      "Probability of coming from S_2 = 0.008994766443155265\n",
      "\n",
      "8.670445505049694\n",
      "Probability of coming from S_1 = 0.9986632937401948\n",
      "Probability of coming from S_2 = 0.0013367062598052067\n",
      "\n",
      "7.353095450589233\n",
      "Probability of coming from S_1 = 0.9722489710501483\n",
      "Probability of coming from S_2 = 0.0277510289498518\n",
      "\n",
      "5.9333814655519355\n",
      "Probability of coming from S_1 = 0.014122789846377944\n",
      "Probability of coming from S_2 = 0.9858772101536221\n",
      "\n",
      "7.095639036373787\n",
      "Probability of coming from S_1 = 0.9233207406529483\n",
      "Probability of coming from S_2 = 0.07667925934705161\n",
      "\n",
      "4.848246839036331\n",
      "Probability of coming from S_1 = 1.5770854412019739e-06\n",
      "Probability of coming from S_2 = 0.9999984229145589\n",
      "\n",
      "3.3171927386854976\n",
      "Probability of coming from S_1 = 3.949386656396844e-14\n",
      "Probability of coming from S_2 = 0.9999999999999606\n",
      "\n",
      "5.609941385281047\n",
      "Probability of coming from S_1 = 0.001258247675622446\n",
      "Probability of coming from S_2 = 0.9987417523243776\n",
      "\n",
      "7.914626525128113\n",
      "Probability of coming from S_1 = 0.9952865609248013\n",
      "Probability of coming from S_2 = 0.004713439075198759\n",
      "\n"
     ]
    }
   ],
   "source": [
    "prob_s0_x_iter2 = [] # P(S_0 | X_i)\n",
    "prob_s1_x_iter2 = [] # P(S_1 | X_i)\n",
    "prob_x_iter2 = [] # P(X_i)\n",
    "\n",
    "k = 2\n",
    "\n",
    "for p in data:\n",
    "    print(\"point = \", p)\n",
    "    pdf_i = [] # pdf_i[0] = p(p | s_0)\n",
    "\n",
    "    for j in range(k):\n",
    "        # P(X_i | S_j)\n",
    "        pdf_i.append(norm.pdf(p, mean[j], var[j]**.5))\n",
    "        print(\"probability of observing that point if it came from cluster \" + str(j) + \" = \", pdf_i[j])\n",
    "        # P(S_j) already computed\n",
    "        prob_c[j]\n",
    "\n",
    "    # P(X_i) = P(S_0)P(X_i | S_0) + P(S_1)P(X_i | S_1)\n",
    "    prob_x_iter2 = prob_c[0] * pdf_i[0] + prob_c[1] * pdf_i[1]\n",
    "\n",
    "    # P(S_j | X_i) = P(X_i | S_j)P(S_j) / P(X_i)\n",
    "    prob_s0_x_iter2.append( prob_c[0] * pdf_i[0] / prob_x_iter2 )\n",
    "    prob_s1_x_iter2.append( prob_c[1] * pdf_i[1] / prob_x_iter2 )\n",
    "\n",
    "probs_iter2 = zip(data, prob_s0_x_iter2, prob_s1_x_iter2)\n",
    "for p in probs_iter2:\n",
    "    print(p[0])\n",
    "    print(\"Probability of coming from S_1 = \" + str(p[1]))\n",
    "    print(\"Probability of coming from S_2 = \" + str(p[2]))\n",
    "    print()"
   ]
  },
  {
   "cell_type": "markdown",
   "metadata": {},
   "source": [
    "The differences with the K means result are extremely small."
   ]
  },
  {
   "cell_type": "markdown",
   "metadata": {},
   "source": [
    "h) Use `P(S_j | X_i)` to create a hard assignment - label each point as belonging to a specific cluster (0 or 1)"
   ]
  },
  {
   "cell_type": "code",
   "execution_count": 8,
   "metadata": {},
   "outputs": [
    {
     "name": "stdout",
     "output_type": "stream",
     "text": [
      "4.127952473017369 assigned to cluster 0\n",
      "7.6835938510425255 assigned to cluster 1\n",
      "8.670445505049694 assigned to cluster 1\n",
      "7.353095450589233 assigned to cluster 1\n",
      "5.9333814655519355 assigned to cluster 0\n",
      "7.095639036373787 assigned to cluster 1\n",
      "4.848246839036331 assigned to cluster 0\n",
      "3.3171927386854976 assigned to cluster 0\n",
      "5.609941385281047 assigned to cluster 0\n",
      "7.914626525128113 assigned to cluster 1\n"
     ]
    }
   ],
   "source": [
    "assignments = zip(data, [int(prob_s0_x_iter2[i] > prob_s1_x_iter2[i]) for i in range(len(data))])\n",
    "for datum, cluster in assignments:\n",
    "    print(datum, \"assigned to cluster\", cluster)"
   ]
  }
 ],
 "metadata": {
  "kernelspec": {
   "display_name": "Python 3 (ipykernel)",
   "language": "python",
   "name": "python3"
  },
  "language_info": {
   "codemirror_mode": {
    "name": "ipython",
    "version": 3
   },
   "file_extension": ".py",
   "mimetype": "text/x-python",
   "name": "python",
   "nbconvert_exporter": "python",
   "pygments_lexer": "ipython3",
   "version": "3.9.18"
  },
  "vscode": {
   "interpreter": {
    "hash": "e7370f93d1d0cde622a1f8e1c04877d8463912d04d973331ad4851f04de6915a"
   }
  }
 },
 "nbformat": 4,
 "nbformat_minor": 4
}
